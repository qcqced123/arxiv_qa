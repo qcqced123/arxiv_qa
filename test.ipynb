{
 "cells": [
  {
   "metadata": {
    "ExecuteTime": {
     "end_time": "2024-05-25T11:23:27.939246Z",
     "start_time": "2024-05-25T11:23:24.732289Z"
    }
   },
   "cell_type": "code",
   "source": [
    "import os\n",
    "import torch\n",
    "\n",
    "from dotenv import load_dotenv\n",
    "from huggingface_hub import login\n",
    "\n",
    "\n",
    "from transformers import AutoModelForCausalLM, AutoConfig\n",
    "\n",
    "load_dotenv()\n",
    "\n",
    "def login_to_huggingface() -> None:\n",
    "    login(os.environ.get(\"HUGGINGFACE_API_KEY\"))\n",
    "    return\n",
    "\n",
    "login_to_huggingface()"
   ],
   "id": "5c0e5c6a376ddf0d",
   "execution_count": 2,
   "outputs": []
  },
  {
   "metadata": {
    "ExecuteTime": {
     "end_time": "2024-05-25T11:23:31.710571Z",
     "start_time": "2024-05-25T11:23:27.940227Z"
    }
   },
   "cell_type": "code",
   "source": [
    "test_model = torch.load('./saved/arxiv_clm_4096_llama2_7b_hf_state_dict.pth')\n",
    "for key in test_model.keys():\n",
    "    print(key)"
   ],
   "id": "7172b94f4feffe35",
   "execution_count": 3,
   "outputs": []
  },
  {
   "metadata": {
    "ExecuteTime": {
     "end_time": "2024-05-25T11:24:08.863609Z",
     "start_time": "2024-05-25T11:24:08.860586Z"
    }
   },
   "cell_type": "code",
   "source": "list(test_model.keys())[-1]",
   "id": "78f6219c635d4e57",
   "execution_count": 6,
   "outputs": []
  },
  {
   "metadata": {
    "jupyter": {
     "is_executing": true
    },
    "ExecuteTime": {
     "start_time": "2024-05-25T10:50:37.968648Z"
    }
   },
   "cell_type": "code",
   "source": [
    "model = AutoModelForCausalLM.from_config(AutoConfig.from_pretrained('meta-llama/Llama-2-7b-hf'))\n",
    "\n",
    "for k in model.state_dict().keys():\n",
    "    print(k)"
   ],
   "id": "1d41449a7170bf79",
   "execution_count": null,
   "outputs": []
  },
  {
   "metadata": {},
   "cell_type": "code",
   "execution_count": null,
   "source": "\"\"\" rename model attr name  \"\"\"",
   "id": "d07d3d4d4c5121a2",
   "outputs": []
  },
  {
   "metadata": {
    "ExecuteTime": {
     "end_time": "2024-05-29T15:46:55.298497Z",
     "start_time": "2024-05-29T15:46:55.295985Z"
    }
   },
   "cell_type": "code",
   "source": [
    "import re\n",
    "\n",
    "def convert_to_latex(text: str) -> str:\n",
    "    pattern = r'(\\b\\w+\\b)(\\d*)(?=\\()' \n",
    "    return re.sub(pattern, r'\\\\text{\\1}_{\\2}', text)\n",
    "\n",
    "example_text = \"\"\"FFN(x) = max(0, xW1 + b1)W2 + b2 (2)\"\"\"\n",
    "\n",
    "latex_lines = convert_to_latex(example_text.strip())\n",
    "print(latex_lines)"
   ],
   "id": "7bf34228ffbfc494",
   "execution_count": 13,
   "outputs": []
  },
  {
   "metadata": {
    "ExecuteTime": {
     "end_time": "2024-05-31T22:20:10.259339Z",
     "start_time": "2024-05-31T22:20:10.256752Z"
    }
   },
   "cell_type": "code",
   "source": [
    "import os\n",
    "import pandas as pd"
   ],
   "id": "5a7e10a8e2e42510",
   "outputs": [],
   "execution_count": 2
  },
  {
   "metadata": {
    "ExecuteTime": {
     "end_time": "2024-05-31T22:22:56.215466Z",
     "start_time": "2024-05-31T22:22:43.676142Z"
    }
   },
   "cell_type": "code",
   "source": [
    "base_path = \"dataset_class/datafolder/arxiv_qa/partition/\"\n",
    "df_list = os.listdir(base_path)\n",
    "\n",
    "df = pd.DataFrame(columns=['paper_id', 'doc_id', 'title', 'doc'])\n",
    "for sub_url in df_list:\n",
    "    sub_df = pd.read_csv(base_path + sub_url)\n",
    "    df = pd.concat([df, sub_df])\n",
    "\n",
    "df"
   ],
   "id": "801249e2c357b9bc",
   "outputs": [
    {
     "data": {
      "text/plain": [
       "      paper_id         doc_id  \\\n",
       "0   2307.12976   2307.12976_0   \n",
       "1   2307.12976   2307.12976_1   \n",
       "2   2307.12976   2307.12976_2   \n",
       "3   2307.12976   2307.12976_3   \n",
       "4   2307.12976   2307.12976_4   \n",
       "..         ...            ...   \n",
       "58  2303.11749  2303.11749_58   \n",
       "59  2303.11749  2303.11749_59   \n",
       "60  2303.11749  2303.11749_60   \n",
       "61  2303.11749  2303.11749_61   \n",
       "62  2303.11749  2303.11749_62   \n",
       "\n",
       "                                                title  \\\n",
       "0   Evaluating the Ripple Effects of Knowledge Edi...   \n",
       "1   Evaluating the Ripple Effects of Knowledge Edi...   \n",
       "2   Evaluating the Ripple Effects of Knowledge Edi...   \n",
       "3   Evaluating the Ripple Effects of Knowledge Edi...   \n",
       "4   Evaluating the Ripple Effects of Knowledge Edi...   \n",
       "..                                                ...   \n",
       "58  Detecting Everything in the Open World: Toward...   \n",
       "59  Detecting Everything in the Open World: Toward...   \n",
       "60  Detecting Everything in the Open World: Toward...   \n",
       "61  Detecting Everything in the Open World: Toward...   \n",
       "62  Detecting Everything in the Open World: Toward...   \n",
       "\n",
       "                                                  doc question  \n",
       "0   Evaluating the Ripple Effects of Knowledge Edi...      NaN  \n",
       "1                                            Abstract      NaN  \n",
       "2   Modern language models capture a large body of...      NaN  \n",
       "3   construct RIPPLEEDITS, a diagnos- tic benchmar...      NaN  \n",
       "4   Figure 1: Illustration of the evaluation scope...      NaN  \n",
       "..                                                ...      ...  \n",
       "58  <table><caption>Table 5. Comparison with exist...      NaN  \n",
       "59  <table><caption>Table 6. Ablation study on reg...      NaN  \n",
       "60  <table><thead><th>decouple</th><th>proposal ge...      NaN  \n",
       "61  pij = 1 1 + \\text{exp}_{}(−zT ijej/τ ) /πγ j ,...      NaN  \n",
       "62  References\\n[1] Ankan Bansal, Karan Sikka, Gau...      NaN  \n",
       "\n",
       "[242635 rows x 5 columns]"
      ],
      "text/html": [
       "<div>\n",
       "<style scoped>\n",
       "    .dataframe tbody tr th:only-of-type {\n",
       "        vertical-align: middle;\n",
       "    }\n",
       "\n",
       "    .dataframe tbody tr th {\n",
       "        vertical-align: top;\n",
       "    }\n",
       "\n",
       "    .dataframe thead th {\n",
       "        text-align: right;\n",
       "    }\n",
       "</style>\n",
       "<table border=\"1\" class=\"dataframe\">\n",
       "  <thead>\n",
       "    <tr style=\"text-align: right;\">\n",
       "      <th></th>\n",
       "      <th>paper_id</th>\n",
       "      <th>doc_id</th>\n",
       "      <th>title</th>\n",
       "      <th>doc</th>\n",
       "      <th>question</th>\n",
       "    </tr>\n",
       "  </thead>\n",
       "  <tbody>\n",
       "    <tr>\n",
       "      <th>0</th>\n",
       "      <td>2307.12976</td>\n",
       "      <td>2307.12976_0</td>\n",
       "      <td>Evaluating the Ripple Effects of Knowledge Edi...</td>\n",
       "      <td>Evaluating the Ripple Effects of Knowledge Edi...</td>\n",
       "      <td>NaN</td>\n",
       "    </tr>\n",
       "    <tr>\n",
       "      <th>1</th>\n",
       "      <td>2307.12976</td>\n",
       "      <td>2307.12976_1</td>\n",
       "      <td>Evaluating the Ripple Effects of Knowledge Edi...</td>\n",
       "      <td>Abstract</td>\n",
       "      <td>NaN</td>\n",
       "    </tr>\n",
       "    <tr>\n",
       "      <th>2</th>\n",
       "      <td>2307.12976</td>\n",
       "      <td>2307.12976_2</td>\n",
       "      <td>Evaluating the Ripple Effects of Knowledge Edi...</td>\n",
       "      <td>Modern language models capture a large body of...</td>\n",
       "      <td>NaN</td>\n",
       "    </tr>\n",
       "    <tr>\n",
       "      <th>3</th>\n",
       "      <td>2307.12976</td>\n",
       "      <td>2307.12976_3</td>\n",
       "      <td>Evaluating the Ripple Effects of Knowledge Edi...</td>\n",
       "      <td>construct RIPPLEEDITS, a diagnos- tic benchmar...</td>\n",
       "      <td>NaN</td>\n",
       "    </tr>\n",
       "    <tr>\n",
       "      <th>4</th>\n",
       "      <td>2307.12976</td>\n",
       "      <td>2307.12976_4</td>\n",
       "      <td>Evaluating the Ripple Effects of Knowledge Edi...</td>\n",
       "      <td>Figure 1: Illustration of the evaluation scope...</td>\n",
       "      <td>NaN</td>\n",
       "    </tr>\n",
       "    <tr>\n",
       "      <th>...</th>\n",
       "      <td>...</td>\n",
       "      <td>...</td>\n",
       "      <td>...</td>\n",
       "      <td>...</td>\n",
       "      <td>...</td>\n",
       "    </tr>\n",
       "    <tr>\n",
       "      <th>58</th>\n",
       "      <td>2303.11749</td>\n",
       "      <td>2303.11749_58</td>\n",
       "      <td>Detecting Everything in the Open World: Toward...</td>\n",
       "      <td>&lt;table&gt;&lt;caption&gt;Table 5. Comparison with exist...</td>\n",
       "      <td>NaN</td>\n",
       "    </tr>\n",
       "    <tr>\n",
       "      <th>59</th>\n",
       "      <td>2303.11749</td>\n",
       "      <td>2303.11749_59</td>\n",
       "      <td>Detecting Everything in the Open World: Toward...</td>\n",
       "      <td>&lt;table&gt;&lt;caption&gt;Table 6. Ablation study on reg...</td>\n",
       "      <td>NaN</td>\n",
       "    </tr>\n",
       "    <tr>\n",
       "      <th>60</th>\n",
       "      <td>2303.11749</td>\n",
       "      <td>2303.11749_60</td>\n",
       "      <td>Detecting Everything in the Open World: Toward...</td>\n",
       "      <td>&lt;table&gt;&lt;thead&gt;&lt;th&gt;decouple&lt;/th&gt;&lt;th&gt;proposal ge...</td>\n",
       "      <td>NaN</td>\n",
       "    </tr>\n",
       "    <tr>\n",
       "      <th>61</th>\n",
       "      <td>2303.11749</td>\n",
       "      <td>2303.11749_61</td>\n",
       "      <td>Detecting Everything in the Open World: Toward...</td>\n",
       "      <td>pij = 1 1 + \\text{exp}_{}(−zT ijej/τ ) /πγ j ,...</td>\n",
       "      <td>NaN</td>\n",
       "    </tr>\n",
       "    <tr>\n",
       "      <th>62</th>\n",
       "      <td>2303.11749</td>\n",
       "      <td>2303.11749_62</td>\n",
       "      <td>Detecting Everything in the Open World: Toward...</td>\n",
       "      <td>References\\n[1] Ankan Bansal, Karan Sikka, Gau...</td>\n",
       "      <td>NaN</td>\n",
       "    </tr>\n",
       "  </tbody>\n",
       "</table>\n",
       "<p>242635 rows × 5 columns</p>\n",
       "</div>"
      ]
     },
     "execution_count": 5,
     "metadata": {},
     "output_type": "execute_result"
    }
   ],
   "execution_count": 5
  },
  {
   "metadata": {
    "ExecuteTime": {
     "end_time": "2024-05-31T22:24:44.226166Z",
     "start_time": "2024-05-31T22:24:42.014747Z"
    }
   },
   "cell_type": "code",
   "source": [
    "output_path = 'dataset_class/datafolder/arxiv_qa/total/total_paper_chunk.csv'\n",
    "df.to_csv(output_path, index=False)"
   ],
   "id": "4734f8500e142a48",
   "outputs": [],
   "execution_count": 6
  },
  {
   "metadata": {},
   "cell_type": "code",
   "outputs": [],
   "execution_count": null,
   "source": "",
   "id": "709863e977855713"
  }
 ],
 "metadata": {
  "kernelspec": {
   "display_name": "Python 3",
   "language": "python",
   "name": "python3"
  },
  "language_info": {
   "codemirror_mode": {
    "name": "ipython",
    "version": 2
   },
   "file_extension": ".py",
   "mimetype": "text/x-python",
   "name": "python",
   "nbconvert_exporter": "python",
   "pygments_lexer": "ipython2",
   "version": "2.7.6"
  }
 },
 "nbformat": 4,
 "nbformat_minor": 5
}
