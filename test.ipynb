{
 "cells": [
  {
   "metadata": {
    "ExecuteTime": {
     "end_time": "2024-05-25T11:23:27.939246Z",
     "start_time": "2024-05-25T11:23:24.732289Z"
    }
   },
   "cell_type": "code",
   "source": [
    "import os\n",
    "import torch\n",
    "\n",
    "from dotenv import load_dotenv\n",
    "from huggingface_hub import login\n",
    "\n",
    "\n",
    "from transformers import AutoModelForCausalLM, AutoConfig\n",
    "\n",
    "load_dotenv()\n",
    "\n",
    "def login_to_huggingface() -> None:\n",
    "    login(os.environ.get(\"HUGGINGFACE_API_KEY\"))\n",
    "    return\n",
    "\n",
    "login_to_huggingface()"
   ],
   "id": "5c0e5c6a376ddf0d",
   "execution_count": 2,
   "outputs": []
  },
  {
   "metadata": {
    "ExecuteTime": {
     "end_time": "2024-05-25T11:23:31.710571Z",
     "start_time": "2024-05-25T11:23:27.940227Z"
    }
   },
   "cell_type": "code",
   "source": [
    "test_model = torch.load('./saved/arxiv_clm_4096_llama2_7b_hf_state_dict.pth')\n",
    "for key in test_model.keys():\n",
    "    print(key)"
   ],
   "id": "7172b94f4feffe35",
   "execution_count": 3,
   "outputs": []
  },
  {
   "metadata": {
    "ExecuteTime": {
     "end_time": "2024-05-25T11:24:08.863609Z",
     "start_time": "2024-05-25T11:24:08.860586Z"
    }
   },
   "cell_type": "code",
   "source": "list(test_model.keys())[-1]",
   "id": "78f6219c635d4e57",
   "execution_count": 6,
   "outputs": []
  },
  {
   "metadata": {
    "jupyter": {
     "is_executing": true
    },
    "ExecuteTime": {
     "start_time": "2024-05-25T10:50:37.968648Z"
    }
   },
   "cell_type": "code",
   "source": [
    "model = AutoModelForCausalLM.from_config(AutoConfig.from_pretrained('meta-llama/Llama-2-7b-hf'))\n",
    "\n",
    "for k in model.state_dict().keys():\n",
    "    print(k)"
   ],
   "id": "1d41449a7170bf79",
   "execution_count": null,
   "outputs": []
  },
  {
   "metadata": {},
   "cell_type": "code",
   "execution_count": null,
   "source": "\"\"\" rename model attr name  \"\"\"",
   "id": "d07d3d4d4c5121a2",
   "outputs": []
  },
  {
   "metadata": {
    "ExecuteTime": {
     "end_time": "2024-05-29T15:46:55.298497Z",
     "start_time": "2024-05-29T15:46:55.295985Z"
    }
   },
   "cell_type": "code",
   "source": [
    "import re\n",
    "\n",
    "def convert_to_latex(text: str) -> str:\n",
    "    pattern = r'(\\b\\w+\\b)(\\d*)(?=\\()' \n",
    "    return re.sub(pattern, r'\\\\text{\\1}_{\\2}', text)\n",
    "\n",
    "example_text = \"\"\"FFN(x) = max(0, xW1 + b1)W2 + b2 (2)\"\"\"\n",
    "\n",
    "latex_lines = convert_to_latex(example_text.strip())\n",
    "print(latex_lines)"
   ],
   "id": "7bf34228ffbfc494",
   "outputs": [
    {
     "name": "stdout",
     "output_type": "stream",
     "text": [
      "\\text{FFN}_{}(x) = \\text{max}_{}(0, xW1 + b1)W2 + b2 (2)\n"
     ]
    }
   ],
   "execution_count": 13
  }
 ],
 "metadata": {
  "kernelspec": {
   "display_name": "Python 3",
   "language": "python",
   "name": "python3"
  },
  "language_info": {
   "codemirror_mode": {
    "name": "ipython",
    "version": 2
   },
   "file_extension": ".py",
   "mimetype": "text/x-python",
   "name": "python",
   "nbconvert_exporter": "python",
   "pygments_lexer": "ipython2",
   "version": "2.7.6"
  }
 },
 "nbformat": 4,
 "nbformat_minor": 5
}
